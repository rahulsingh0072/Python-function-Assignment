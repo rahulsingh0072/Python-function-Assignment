{
  "nbformat": 4,
  "nbformat_minor": 0,
  "metadata": {
    "colab": {
      "provenance": []
    },
    "kernelspec": {
      "name": "python3",
      "display_name": "Python 3"
    },
    "language_info": {
      "name": "python"
    }
  },
  "cells": [
    {
      "cell_type": "code",
      "execution_count": null,
      "metadata": {
        "id": "Xei8JhFdgn3c"
      },
      "outputs": [],
      "source": []
    },
    {
      "cell_type": "markdown",
      "source": [
        "**1.What is the difference between a function and a method in Python?**\n",
        "\n",
        " **Ans-**Method is called by its name, but it is associated to an object (dependent) while Function is block of code that is also called by its name (independent).A method definition always includes ‘self’ as its first parameter while the function can have different parameters or may not have any at all. If any data (parameters) are passed, they are passed explicitly."
      ],
      "metadata": {
        "id": "esOmTQtagsxi"
      }
    },
    {
      "cell_type": "code",
      "source": [
        "#Example of function in python\n",
        "def Subtract (a, b):\n",
        "\treturn (a-b)\n",
        "\n",
        "print( Subtract(14, 12) ) # prints -2\n",
        "\n",
        "print( Subtract(15, 6) ) # prints 9\n"
      ],
      "metadata": {
        "colab": {
          "base_uri": "https://localhost:8080/"
        },
        "id": "3M7QDwMGjfsy",
        "outputId": "9a555c19-f03e-45eb-f12a-a579e056776c"
      },
      "execution_count": null,
      "outputs": [
        {
          "output_type": "stream",
          "name": "stdout",
          "text": [
            "2\n",
            "9\n"
          ]
        }
      ]
    },
    {
      "cell_type": "code",
      "source": [
        "#Example of method in python\n",
        "class Dog:\n",
        "    def my_method(self):\n",
        "        print (\"I am a Dog\")\n",
        "\n",
        "dog = Dog()\n",
        "dog.my_method()"
      ],
      "metadata": {
        "colab": {
          "base_uri": "https://localhost:8080/"
        },
        "id": "j07-ghAhlW0Z",
        "outputId": "44f190b3-c0a4-4576-cc46-7205901a38e4"
      },
      "execution_count": null,
      "outputs": [
        {
          "output_type": "stream",
          "name": "stdout",
          "text": [
            "I am a Dog\n"
          ]
        }
      ]
    },
    {
      "cell_type": "markdown",
      "source": [
        "**2. Explain the concept of function arguments and parameters in Python.**\n",
        "\n",
        " **Ans-**A parameter is the variable listed inside the parentheses in the function definition. An argument is the value that are sent to the function when it is called.Parameters are local to the function where they're defined while The number of arguments that can be passed to a function can vary.\n"
      ],
      "metadata": {
        "id": "wgGl72lOl3bG"
      }
    },
    {
      "cell_type": "code",
      "source": [
        "#Example of argument in python\n",
        "def sum(a,b):\n",
        "  print(a+b)\n",
        "\n",
        "# Here the values 1,2 are arguments\n",
        "sum(1,2)\n"
      ],
      "metadata": {
        "colab": {
          "base_uri": "https://localhost:8080/"
        },
        "id": "rMEoFCLenQvG",
        "outputId": "14a633ac-75ce-4dd3-e7df-52ec3d8a53c6"
      },
      "execution_count": null,
      "outputs": [
        {
          "output_type": "stream",
          "name": "stdout",
          "text": [
            "3\n"
          ]
        }
      ]
    },
    {
      "cell_type": "code",
      "source": [
        "#Example of parameter in python\n",
        "# Here a,b are the parameters\n",
        "def sum(a,b):\n",
        "  print(a+b)\n",
        "\n",
        "sum(1,2)\n",
        "\n"
      ],
      "metadata": {
        "colab": {
          "base_uri": "https://localhost:8080/"
        },
        "id": "I2WcOokYnin3",
        "outputId": "54ce4528-68a9-41f1-c8ee-cadef7ef953c"
      },
      "execution_count": null,
      "outputs": [
        {
          "output_type": "stream",
          "name": "stdout",
          "text": [
            "3\n"
          ]
        }
      ]
    },
    {
      "cell_type": "markdown",
      "source": [
        "**3. What are the different ways to define and call a function in Python?**\n",
        "\n",
        "**Ans-** In Python, we define a function with the def keyword, then write the function identifier (name) followed by parentheses and a colon.\n",
        "\n",
        "The next thing you have to do is make sure you indent with a tab or 4 spaces, and then specify what you want the function to do for you."
      ],
      "metadata": {
        "id": "aAMOMpTxoBi-"
      }
    },
    {
      "cell_type": "code",
      "source": [
        "# Example\n",
        "def subtractNum():\n",
        "    print(56 - 24)\n",
        "subtractNum()"
      ],
      "metadata": {
        "colab": {
          "base_uri": "https://localhost:8080/"
        },
        "id": "M93vvl9lohWu",
        "outputId": "0fa6b6c2-0b97-42e4-aad9-fc2873b7c319"
      },
      "execution_count": null,
      "outputs": [
        {
          "output_type": "stream",
          "name": "stdout",
          "text": [
            "32\n"
          ]
        }
      ]
    },
    {
      "cell_type": "markdown",
      "source": [
        "**4. What is the purpose of the `return` statement in a Python function?**\n",
        "\n",
        " **Ans-** A return statement is used to end the execution of the function call and “returns” the result (value of the expression following the return keyword) to the caller. The statements after the return statements are not executed.. A return statement is overall used to invoke a function so that the passed statements can be executed.\n"
      ],
      "metadata": {
        "id": "ry0ddGKco9PW"
      }
    },
    {
      "cell_type": "code",
      "source": [
        "#Example of return statement\n",
        "def add(x, y):\n",
        "    result = x + y\n",
        "    return result\n",
        "output = add(5, 4)\n",
        "print(f'Output of add(5, 4) function is {output}')\n"
      ],
      "metadata": {
        "colab": {
          "base_uri": "https://localhost:8080/"
        },
        "id": "5geG8Uzxp25V",
        "outputId": "9d1d885c-d59c-4e99-8ef9-35bc1e3a4402"
      },
      "execution_count": null,
      "outputs": [
        {
          "output_type": "stream",
          "name": "stdout",
          "text": [
            "Output of add(5, 4) function is 9\n"
          ]
        }
      ]
    },
    {
      "cell_type": "markdown",
      "source": [
        "**5. What are iterators in Python and how do they differ from iterables?**\n",
        "\n",
        " **Ans-**Iterable is an object, that one can iterate over. It generates an Iterator when passed to iter() method. An iterator is an object, which is used to iterate over an iterable object using the __next__() method. Iterators have the __next__() method, which returns the next item of the object.\n",
        "\n"
      ],
      "metadata": {
        "id": "ufJGzye9qudV"
      }
    },
    {
      "cell_type": "code",
      "source": [
        "#Example of iterator\n",
        "# code\n",
        "s=\"GFG\"\n",
        "s=iter(s)\n",
        "print(s)\n",
        "print(next(s))\n",
        "print(next(s))\n",
        "print(next(s))\n"
      ],
      "metadata": {
        "colab": {
          "base_uri": "https://localhost:8080/"
        },
        "id": "qgLmr4XMrdXc",
        "outputId": "eea1995c-96ef-4047-8822-d0d8da46751b"
      },
      "execution_count": null,
      "outputs": [
        {
          "output_type": "stream",
          "name": "stdout",
          "text": [
            "<str_iterator object at 0x79cf44296620>\n",
            "G\n",
            "F\n",
            "G\n"
          ]
        }
      ]
    },
    {
      "cell_type": "code",
      "source": [
        "#Example of iterable\n",
        "name = 'John'\n",
        "\n",
        "if hasattr(name, '__iter__'):\n",
        "  print(f'{name} is iterable')\n",
        "\n",
        "else:\n",
        "  print(f'{name} is not iterable')\n"
      ],
      "metadata": {
        "colab": {
          "base_uri": "https://localhost:8080/"
        },
        "id": "J_MXLutlrv5E",
        "outputId": "a442e523-1448-4d9a-8238-3572894660ef"
      },
      "execution_count": null,
      "outputs": [
        {
          "output_type": "stream",
          "name": "stdout",
          "text": [
            "John is iterable\n"
          ]
        }
      ]
    },
    {
      "cell_type": "markdown",
      "source": [
        "**6- Explain the concept of generators in Python and how they are defined.**\n",
        "\n",
        " **Ans-** In Python, a generator is a function that returns an iterator that produces a sequence of values when iterated over.\n",
        "Generators are useful when we want to produce a large sequence of values, but we don't want to store all of them in memory at once.\n",
        "     \n",
        "   Similar to defining a normal function, we can define a generator function using the def keyword, but instead of the return statement we use the yield statement.\n",
        "   \n"
      ],
      "metadata": {
        "id": "QGCvBrhFsbo8"
      }
    },
    {
      "cell_type": "code",
      "source": [
        "#Example\n",
        "# create the generator object\n",
        "squares_generator = (i * i for i in range(5))\n",
        "\n",
        "# iterate over the generator and print the values\n",
        "for i in squares_generator:\n",
        "    print(i)"
      ],
      "metadata": {
        "colab": {
          "base_uri": "https://localhost:8080/"
        },
        "id": "gHQgKB1StHo8",
        "outputId": "b891ec52-b6a9-49c8-d3b6-5bf33aa121c3"
      },
      "execution_count": null,
      "outputs": [
        {
          "output_type": "stream",
          "name": "stdout",
          "text": [
            "0\n",
            "1\n",
            "4\n",
            "9\n",
            "16\n"
          ]
        }
      ]
    },
    {
      "cell_type": "markdown",
      "source": [
        "**7. What are the advantages of using generators over regular functions?**\n",
        "\n",
        "**Ans-**Generators have several advantages over regular functions:\n",
        "\n",
        "   *  Memory efficiency- Generators are more memory efficient than regular functions because they yield values one at a time, instead of building an array and returning all values at once.\n",
        "\n",
        "*  Readability- Generators can make code easier to read and understand by breaking up the iteration process into smaller chunks.\n",
        "* Control flow- Generators can be implemented using control flow constructs like coroutines or first-class continuations.\n",
        "*  Speed- Generators can be faster than regular loops, especially when working with large data sets."
      ],
      "metadata": {
        "id": "r-IFPGE7tk40"
      }
    },
    {
      "cell_type": "markdown",
      "source": [
        "**8.What is a lambda function in Python and when is it typically used?**\n",
        "\n",
        "**Ans-**lambda is a keyword in Python for defining the anonymous function.\n",
        "Argument(s) is a placeholder, that is a variable that will be used to hold the value you want to pass into the function expression. A lambda function can have multiple variables depending on what you want to achieve.\n",
        "Expression is the code you want to execute in the lambda function."
      ],
      "metadata": {
        "id": "XhxF7RVmwSdT"
      }
    },
    {
      "cell_type": "code",
      "source": [
        "#Example\n",
        "str1 = 'Rahul trader'\n",
        "\n",
        "upper = lambda string: string.upper()\n",
        "print(upper(str1))\n"
      ],
      "metadata": {
        "colab": {
          "base_uri": "https://localhost:8080/"
        },
        "id": "WtrpZrb7xCmZ",
        "outputId": "24413774-bb22-4a60-c6a7-490fd747e32a"
      },
      "execution_count": null,
      "outputs": [
        {
          "output_type": "stream",
          "name": "stdout",
          "text": [
            "RAHUL TRADER\n"
          ]
        }
      ]
    },
    {
      "cell_type": "markdown",
      "source": [
        "**9. Explain the purpose and usage of the `map()` function in Python.**\n",
        "\n",
        "**Ans-**Map in Python is a function that works as an iterator to return a result after applying a function to every item of an iterable (tuple, lists, etc.).\n",
        "\n",
        " **purpose-**The map() function is often more performant than using a for loop because it applies the function one item at a time. It can be particularly useful when working on programs that process large data sets.\n",
        "\n",
        " **Uses-**The map() function is used to apply a single transformation function to all the elements of an iterable."
      ],
      "metadata": {
        "id": "DA2HSBH1xUHK"
      }
    },
    {
      "cell_type": "code",
      "source": [
        "#Example\n",
        "s = ['1', '2', '3', '4']\n",
        "res = map(int, s)\n",
        "print(list(res))\n"
      ],
      "metadata": {
        "colab": {
          "base_uri": "https://localhost:8080/"
        },
        "id": "WIBi4xmByyPd",
        "outputId": "af6e82bd-bd2d-4f9c-9ded-9f517538ed65"
      },
      "execution_count": null,
      "outputs": [
        {
          "output_type": "stream",
          "name": "stdout",
          "text": [
            "[1, 2, 3, 4]\n"
          ]
        }
      ]
    },
    {
      "cell_type": "markdown",
      "source": [
        "**10. What is the difference between `map()`, `reduce()`, and `filter()` functions in Python?**\n",
        "\n",
        "**Ans-** **Map Function-**The map () function returns a map object(which is an iterator) of the results after applying the given function to each item of a given iterable (list, tuple, etc.)."
      ],
      "metadata": {
        "id": "y59UsXMt0SK5"
      }
    },
    {
      "cell_type": "code",
      "source": [
        "#Example\n",
        "# Function to return double of n\n",
        "def double(n):\n",
        "    return n * 2\n",
        "\n",
        "# Using map to double all numbers\n",
        "numbers = [5, 6, 7, 8]\n",
        "result = map(double, numbers)\n",
        "print(list(result))\n"
      ],
      "metadata": {
        "colab": {
          "base_uri": "https://localhost:8080/"
        },
        "id": "EWDcPtCb0lm5",
        "outputId": "17d10667-129a-4e98-9577-b626dec3d161"
      },
      "execution_count": null,
      "outputs": [
        {
          "output_type": "stream",
          "name": "stdout",
          "text": [
            "[10, 12, 14, 16]\n"
          ]
        }
      ]
    },
    {
      "cell_type": "markdown",
      "source": [
        "**Reduce Function-**The reduce function is used to apply a particular function passed in its argument to all of the list elements mentioned in the sequence passed along.This function is defined in “functools” module."
      ],
      "metadata": {
        "id": "XTNm_YOC0qa5"
      }
    },
    {
      "cell_type": "code",
      "source": [
        "#Example\n",
        "import functools\n",
        "\n",
        "# Define a list of numbers\n",
        "numbers = [1, 2, 3, 4]\n",
        "\n",
        "# Use reduce to compute the product of list elements\n",
        "product = functools.reduce(lambda x, y: x * y, numbers)\n",
        "print(\"Product of list elements:\", product)\n"
      ],
      "metadata": {
        "colab": {
          "base_uri": "https://localhost:8080/"
        },
        "id": "yQhpD82u0yC6",
        "outputId": "c4318331-ed4b-4f89-8bca-6187b007478a"
      },
      "execution_count": null,
      "outputs": [
        {
          "output_type": "stream",
          "name": "stdout",
          "text": [
            "Product of list elements: 24\n"
          ]
        }
      ]
    },
    {
      "cell_type": "markdown",
      "source": [
        "**Filter Function-**The filter() method filters the given sequence with the help of a function that tests each element in the sequence to be true or not."
      ],
      "metadata": {
        "id": "kdQZHVrz06Kx"
      }
    },
    {
      "cell_type": "code",
      "source": [
        "#Example\n",
        "# Define a function to check if a number is even\n",
        "def is_even(n):\n",
        "    return n % 2 == 0\n",
        "\n",
        "# Define a list of numbers\n",
        "numbers = [1, 2, 3, 4, 5, 6, 7, 8, 9, 10]\n",
        "\n",
        "# Use filter to filter out even numbers\n",
        "even_numbers = filter(is_even, numbers)\n",
        "print(\"Even numbers:\", list(even_numbers))\n"
      ],
      "metadata": {
        "colab": {
          "base_uri": "https://localhost:8080/"
        },
        "id": "YJEduMgp0_GR",
        "outputId": "b210289b-32bb-4a55-c5b3-90fc67f79734"
      },
      "execution_count": null,
      "outputs": [
        {
          "output_type": "stream",
          "name": "stdout",
          "text": [
            "Even numbers: [2, 4, 6, 8, 10]\n"
          ]
        }
      ]
    },
    {
      "cell_type": "markdown",
      "source": [
        "**11.Using pen & Paper write the internal mechanism for sum operation using  reduce function on this given**\n",
        "**list:[47,11,42,13] .**\n",
        "\n",
        "**Ans-**https://drive.google.com/file/d/1N2qsp4EDs5Gw4BcFzznuelS4eTx16CGq/view?usp=sharing"
      ],
      "metadata": {
        "id": "AAVbInZCDr0T"
      }
    },
    {
      "cell_type": "markdown",
      "source": [
        "**PRACTICAL QUESTION:**"
      ],
      "metadata": {
        "id": "i-zfVQi6EXap"
      }
    },
    {
      "cell_type": "markdown",
      "source": [
        "**1. Write a Python function that takes a list of numbers as input and returns the sum of all even numbers in\n",
        "the list.**\n",
        "\n",
        "**Ans-**"
      ],
      "metadata": {
        "id": "iP06jZu5Emi6"
      }
    },
    {
      "cell_type": "code",
      "source": [
        "myList = [1, 3, 5, 6, 8, 10, 37, 2, 0, 3]\n",
        "result = 0  # Initialize results variable.\n",
        "for i in myList:  # Loop through each element of the list.\n",
        "   if not i % 2:  # Test for even numbers.\n",
        "     result += i\n",
        "\n",
        "print(result)"
      ],
      "metadata": {
        "colab": {
          "base_uri": "https://localhost:8080/"
        },
        "id": "hFS1kZJRFamZ",
        "outputId": "dc4477ad-43a4-49c2-99cd-2785a020a8e6"
      },
      "execution_count": 2,
      "outputs": [
        {
          "output_type": "stream",
          "name": "stdout",
          "text": [
            "26\n"
          ]
        }
      ]
    },
    {
      "cell_type": "markdown",
      "source": [
        "**2. Create a Python function that accepts a string and returns the reverse of that string.**\n",
        "\n",
        "**Ans-**\n",
        "\n"
      ],
      "metadata": {
        "id": "nvB2xx-ZFmsB"
      }
    },
    {
      "cell_type": "code",
      "source": [
        "def my_function(x):\n",
        "  return x[::-1]\n",
        "\n",
        "mytxt = my_function(\"I wonder how this text looks like backwards\")\n",
        "\n",
        "print(mytxt)\n",
        ""
      ],
      "metadata": {
        "colab": {
          "base_uri": "https://localhost:8080/"
        },
        "id": "NWQzzBGUGZkA",
        "outputId": "6ef1b549-04a6-4466-8ba7-5b2e5bd97dfb"
      },
      "execution_count": 3,
      "outputs": [
        {
          "output_type": "stream",
          "name": "stdout",
          "text": [
            "sdrawkcab ekil skool txet siht woh rednow I\n"
          ]
        }
      ]
    },
    {
      "cell_type": "markdown",
      "source": [
        "**3. Implement a Python function that takes a list of integers and returns a new list containing the squares of each number.**\n",
        "\n",
        "Ans-"
      ],
      "metadata": {
        "id": "DmENqLkqGlDI"
      }
    },
    {
      "cell_type": "code",
      "source": [
        "# create a list with 7 integer elements\n",
        "list=[1,2,3,4,5,6,7]\n",
        "\n",
        "# use list comprehension to get square\n",
        "result = [i*i for i in list]\n",
        "\n",
        "# display the result\n",
        "print(result)"
      ],
      "metadata": {
        "colab": {
          "base_uri": "https://localhost:8080/"
        },
        "id": "_BdTiivpGp1R",
        "outputId": "206c3d27-7049-406e-e64d-d0cab2b82d11"
      },
      "execution_count": 4,
      "outputs": [
        {
          "output_type": "stream",
          "name": "stdout",
          "text": [
            "[1, 4, 9, 16, 25, 36, 49]\n"
          ]
        }
      ]
    },
    {
      "cell_type": "markdown",
      "source": [
        "**4. Write a Python function that checks if a given number is prime or not from 1 to 200.**\n",
        "\n",
        "**Ans-**"
      ],
      "metadata": {
        "id": "MmynwqAiI4jv"
      }
    },
    {
      "cell_type": "code",
      "source": [
        "def is_prime_recursive(num, divisor=None):\n",
        "    if divisor is None:\n",
        "        divisor = num - 1\n",
        "    if num <= 1:\n",
        "        return False\n",
        "    if divisor == 1:\n",
        "        return True\n",
        "    if num % divisor == 0:\n",
        "        return False\n",
        "    return is_prime_recursive(num, divisor - 1)\n",
        "\n",
        "number = int(input(\"Enter a number: \"))\n",
        "if is_prime_recursive(number):\n",
        "    print(f\"{number} is a prime number.\")\n",
        "else:\n",
        "    print(f\"{number} is not a prime number.\")"
      ],
      "metadata": {
        "colab": {
          "base_uri": "https://localhost:8080/"
        },
        "id": "rRt-Fg5gJGRQ",
        "outputId": "a4acece0-f122-421d-f869-004d21a5cd76"
      },
      "execution_count": 7,
      "outputs": [
        {
          "output_type": "stream",
          "name": "stdout",
          "text": [
            "Enter a number: 73\n",
            "73 is a prime number.\n"
          ]
        }
      ]
    },
    {
      "cell_type": "markdown",
      "source": [
        "**5. Create an iterator class in Python that generates the Fibonacci sequence up to a specified number of\n",
        "terms.**\n",
        "\n",
        "**Ans-**"
      ],
      "metadata": {
        "id": "gdbAUMkpJSk3"
      }
    },
    {
      "cell_type": "code",
      "source": [
        "num = 10\n",
        "n1, n2 = 0,1\n",
        "if num == 1:\n",
        "  print(n1)\n",
        "else:\n",
        "  print(n1,n2,end=\" \")\n",
        "  for i in range(2,num):\n",
        "    n3 = n1 + n2\n",
        "    n1 = n2\n",
        "    n2 = n3\n",
        "    print(n3, end=\" \")"
      ],
      "metadata": {
        "colab": {
          "base_uri": "https://localhost:8080/"
        },
        "id": "pWvjAXTbJeBv",
        "outputId": "38d95d37-dd05-4e60-f688-c9e0565ace90"
      },
      "execution_count": 9,
      "outputs": [
        {
          "output_type": "stream",
          "name": "stdout",
          "text": [
            "0 1 1 2 3 5 8 13 21 34 "
          ]
        }
      ]
    },
    {
      "cell_type": "markdown",
      "source": [
        "**6. Write a generator function in Python that yields the powers of 2 up to a given exponent.**\n",
        "\n",
        "Ans-"
      ],
      "metadata": {
        "id": "WWxrEJj6JkKv"
      }
    },
    {
      "cell_type": "code",
      "source": [
        "def gen(x):\n",
        "   i = 2\n",
        "   for n in range(x + 1):\n",
        "       yield i\n",
        "       i <<= 1\n",
        "   list(gen(2))\n",
        "[2, 4, 8, 16, 32]\n",
        ""
      ],
      "metadata": {
        "colab": {
          "base_uri": "https://localhost:8080/"
        },
        "id": "2BX8le8XJqt2",
        "outputId": "c797cbfd-d2e5-4214-9483-53b20f27f4ea"
      },
      "execution_count": 10,
      "outputs": [
        {
          "output_type": "execute_result",
          "data": {
            "text/plain": [
              "[2, 4, 8, 16, 32]"
            ]
          },
          "metadata": {},
          "execution_count": 10
        }
      ]
    },
    {
      "cell_type": "markdown",
      "source": [
        "**7. Implement a generator function that reads a file line by line and yields each line as a string.**\n",
        "\n",
        "**Ans-**"
      ],
      "metadata": {
        "id": "xw4j3qt3Jwv2"
      }
    },
    {
      "cell_type": "code",
      "source": [
        "L = [\"Geeks\\n\", \"for\\n\", \"Geeks\\n\"]\n",
        "\n",
        "# Writing to file\n",
        "file1 = open('myfile.txt', 'w')\n",
        "file1.writelines(L)\n",
        "file1.close()\n",
        "\n",
        "# Opening file\n",
        "file1 = open('myfile.txt', 'r')\n",
        "count = 0\n",
        "\n",
        "# Using for loop\n",
        "print(\"Using for loop\")\n",
        "for line in file1:\n",
        "    count += 1\n",
        "    print(\"Line{}: {}\".format(count, line.strip()))\n",
        "\n",
        "# Closing files\n",
        "file1.close()\n",
        "\n"
      ],
      "metadata": {
        "colab": {
          "base_uri": "https://localhost:8080/"
        },
        "id": "sS-qWUx1J8_A",
        "outputId": "09d66dab-106b-455a-9781-49d1226cb4d1"
      },
      "execution_count": 12,
      "outputs": [
        {
          "output_type": "stream",
          "name": "stdout",
          "text": [
            "Using for loop\n",
            "Line1: Geeks\n",
            "Line2: for\n",
            "Line3: Geeks\n"
          ]
        }
      ]
    },
    {
      "cell_type": "markdown",
      "source": [
        "**8. Use a lambda function in Python to sort a list of tuples based on the second element of each tuple.**\n",
        "\n",
        "**Ans-**"
      ],
      "metadata": {
        "id": "VXQJyHdhKQmm"
      }
    },
    {
      "cell_type": "code",
      "source": [
        "# Create a list of tuples named 'subject_marks', each tuple containing a subject and its corresponding marks\n",
        "subject_marks = [('English', 88), ('Science', 90), ('Maths', 97), ('Social sciences', 82)]\n",
        "\n",
        "# Display the original list of tuples to the console\n",
        "print(\"Original list of tuples:\")\n",
        "print(subject_marks)\n",
        "\n",
        "# Sort the 'subject_marks' list of tuples based on the second element of each tuple (the marks),\n",
        "# using a lambda function as the sorting key to extract the second element\n",
        "subject_marks.sort(key=lambda x: x[1])\n",
        "\n",
        "# Display the sorted list of tuples to the console\n",
        "print(\"\\nSorting the List of Tuples:\")\n",
        "print(subject_marks)"
      ],
      "metadata": {
        "colab": {
          "base_uri": "https://localhost:8080/"
        },
        "id": "iGnoKA0yKbqf",
        "outputId": "e28acda9-23c9-46ad-b9b0-8d25c25b24e0"
      },
      "execution_count": 13,
      "outputs": [
        {
          "output_type": "stream",
          "name": "stdout",
          "text": [
            "Original list of tuples:\n",
            "[('English', 88), ('Science', 90), ('Maths', 97), ('Social sciences', 82)]\n",
            "\n",
            "Sorting the List of Tuples:\n",
            "[('Social sciences', 82), ('English', 88), ('Science', 90), ('Maths', 97)]\n"
          ]
        }
      ]
    },
    {
      "cell_type": "markdown",
      "source": [
        "**9. Write a Python program that uses `map()` to convert a list of temperatures from Celsius to Fahrenheit.**\n",
        "\n",
        "**Ans-**"
      ],
      "metadata": {
        "id": "29hEGEvxKh3P"
      }
    },
    {
      "cell_type": "code",
      "source": [
        "celsius = float(input(\"Enter temperature\\\n",
        "in celsius: \"))\n",
        "\n",
        "fahrenheit = (celsius * 1.8) + 32\n",
        "\n",
        "print(str(celsius )+ \" degree Celsius\\\n",
        "is equal to \" + str(fahrenheit )+\n",
        "\t\" degree Fahrenheit.\")"
      ],
      "metadata": {
        "colab": {
          "base_uri": "https://localhost:8080/"
        },
        "id": "Z3C00ADxKqav",
        "outputId": "a1a8649e-2980-4f7c-8f9e-b9c16da85a32"
      },
      "execution_count": 14,
      "outputs": [
        {
          "output_type": "stream",
          "name": "stdout",
          "text": [
            "Enter temperaturein celsius: 24\n",
            "24.0 degree Celsiusis equal to 75.2 degree Fahrenheit.\n"
          ]
        }
      ]
    },
    {
      "cell_type": "markdown",
      "source": [
        "**10. Create a Python program that uses `filter()` to remove all the vowels from a given string.**\n",
        "\n",
        "Ans-"
      ],
      "metadata": {
        "id": "2cmJXwylK1hW"
      }
    },
    {
      "cell_type": "code",
      "source": [
        "string = \"PrepInsta\"\n",
        "\n",
        "vowels = ['a', 'e', 'i', 'o', 'u', 'A', 'E', 'I', 'O', 'U']\n",
        "result = \"\"\n",
        "\n",
        "for i in range(len(string)):\n",
        "    if string[i] not in vowels:\n",
        "        result = result + string[i]\n",
        "\n",
        "print(\"\\nAfter removing Vowels: \", result)"
      ],
      "metadata": {
        "colab": {
          "base_uri": "https://localhost:8080/"
        },
        "id": "z-5FE2yRLHJO",
        "outputId": "43a70afb-f7d3-4589-8446-40804bfa263d"
      },
      "execution_count": 15,
      "outputs": [
        {
          "output_type": "stream",
          "name": "stdout",
          "text": [
            "\n",
            "After removing Vowels:  Prpnst\n"
          ]
        }
      ]
    },
    {
      "cell_type": "markdown",
      "source": [
        "11. Imagine an accounting routine used in a book shop. It works on a list with sublists, which look like this:\n",
        "\n",
        "Order Number, Book Title and Author, Quantity, Price per Item\n",
        "\n",
        "34587 , Learning Python, Mark Lutz, 4 , 40.95\n",
        "\n",
        "98762 , Programming Python, Mark Lutz, 5 , 56.80\n",
        "\n",
        "77226 , Head First Python, Paul Barry , 3 , 32.95\n",
        "\n",
        "88112 , Einführung in Python3, Bernd Klein, 3 , 24.99\n",
        "\n",
        "Write a Python program, which returns a list with 2-tuples. Each tuple consists of the order number and the product of the price per item and the quantity. The product should be increased by 10,- € if the value of the order is smaller than 100,00 €.\n",
        "\n",
        "Write a Python program using lambda and map\n",
        "\n",
        "Ans -"
      ],
      "metadata": {
        "id": "ldSozz1xLKWX"
      }
    },
    {
      "cell_type": "code",
      "source": [
        "#Solution-1\n",
        "\n",
        "orders = [ [\"34587\", \"Learning Python, Mark Lutz\", 4, 40.95],[\"98762\", \"Programming Python, Mark Lutz\", 5, 56.80],[\"77226\", \"Head First Python, Paul Barry\", 3,32.95],[\"88112\", \"Einführung in Python3, Bernd Klein\", \t3, 24.99]]\n",
        "\n",
        "invoice_totals = list(map(lambda x: x if x[1] >= min_order else (x[0], x[1] + 10),map(lambda x: (x[0],x[2] * x[3]), orders)))\n",
        "\n",
        "#Note- To understand the working of above lambda function break the function till innermost map function. Break and understand in below fashion\n",
        "'''\n",
        "output1 = map(lambda x: (x[0],x[2] * x[3]), orders) #Innermost lambda function execution\n",
        "\n",
        "output2 = map(lambda x: x if x[1] >= min_order else (x[0], x[1] + 10),map(lambda x: (x[0],x[2] * x[3]), orders))\n",
        "\n",
        "final = list(map(lambda x: x if x[1] >= min_order else (x[0], x[1] + 10),map(lambda x: (x[0],x[2] * x[3]), orders)))\n",
        "'''\n",
        "\n",
        "#Solution-2\n",
        "\n",
        "from functools import reduce\n",
        "\n",
        "orders = [ [1, (\"5464\", 4, 9.99), (\"8274\",18,12.99), (\"9744\", 9, 44.95)],[2, (\"5464\", 9, 9.99), (\"9744\", 9, 44.95)],[3, (\"5464\", 9, 9.99), (\"88112\", 11, 24.99)],[4, (\"8732\", 7, 11.99), (\"7733\",11,18.99), (\"88112\", 5, 39.95)] ]\n",
        "\n",
        "invoice = list(map(lambda k: k if k[1]>=100 else (k[0],k[1]+10),map(lambda x:(x[0],reduce(lambda a,b:a+b,list(map(lambda y:y[1]*y[2] ,x[1:])))),orders)))\n",
        "\n",
        "#Breaking\n",
        "\n",
        "'''\n",
        "output1=map(lambda y:y[1]*y[2] ,x[1:])\n",
        "output2=list(map(lambda y:y[1]*y[2] ,x[1:]))\n",
        "output3=reduce(lambda a,b:a+b,list(map(lambda y:y[1]*y[2] ,x[1:])))\n",
        "output4=map(lambda x:(x[0],reduce(lambda a,b:a+b,list(map(lambda y:y[1]*y[2] ,x[1:]))))\n",
        "output5=map(lambda k: k if k[1]>=100 else (k[0],k[1]+10),map(lambda x:(x[0],reduce(lambda a,b:a+b,list(map(lambda y:y[1]*y[2] ,x[1:])))),orders))\n",
        "output6=list(map(lambda k: k if k[1]>=100 else (k[0],k[1]+10),map(lambda x:(x[0],reduce(lambda a,b:a+b,list(map(lambda y:y[1]*y[2] ,x[1:])))),orders)))\n",
        "'''"
      ],
      "metadata": {
        "id": "ZtNfe2mVMDEO"
      },
      "execution_count": null,
      "outputs": []
    }
  ]
}